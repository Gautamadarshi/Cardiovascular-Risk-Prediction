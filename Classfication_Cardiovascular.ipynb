{
  "nbformat": 4,
  "nbformat_minor": 0,
  "metadata": {
    "colab": {
      "provenance": [],
      "authorship_tag": "ABX9TyMWOiONUSu1l1/OGKb62iKs",
      "include_colab_link": true
    },
    "kernelspec": {
      "name": "python3",
      "display_name": "Python 3"
    },
    "language_info": {
      "name": "python"
    }
  },
  "cells": [
    {
      "cell_type": "markdown",
      "metadata": {
        "id": "view-in-github",
        "colab_type": "text"
      },
      "source": [
        "<a href=\"https://colab.research.google.com/github/Gautamadarshi/Cardiovascular-Risk-Prediction/blob/Adarshi/Classfication_Cardiovascular.ipynb\" target=\"_parent\"><img src=\"https://colab.research.google.com/assets/colab-badge.svg\" alt=\"Open In Colab\"/></a>"
      ]
    },
    {
      "cell_type": "markdown",
      "source": [
        "#**Cardiovascular Risk Prediction**"
      ],
      "metadata": {
        "id": "V7Qh6Wiu7WhW"
      }
    },
    {
      "cell_type": "markdown",
      "source": [
        "##**Project Type** - Classification\n",
        "\n",
        "##**Contribution** - Indivisual\n",
        "\n",
        "*Created By* - **Gautam Kumar Adarshi**"
      ],
      "metadata": {
        "id": "NpGG2VM37xno"
      }
    },
    {
      "cell_type": "markdown",
      "source": [
        "# **Project Summary!**\n",
        "\n",
        "\n",
        "\n",
        "The goal of this project was to use machine learning techniques to predict the 10-year risk of future coronary heart disease (CHD) in patients using data from an ongoing cardiovascular study on residents of the town of Framingham, Massachusetts. The dataset provided information on over 4,000 patients and included 15 attributes, each representing a potential risk factor for CHD. These attributes included demographic, behavioral, and medical risk factors.\n",
        "\n",
        "To prepare the data for analysis, extensive preprocessing was performed to clean and transform the data. This included handling missing values using median, mode, and KNN imputation techniques, as well as identifying and removing outliers using the Interquartile Range (IQR) method. Skewed continuous variables were also transformed using log and square root transformations to reduce skewness and improve model performance.\n",
        "\n",
        "Feature selection was performed using variance inflation factor to remove multicollinearity and a new feature called pulse pressure was created to capture the relationship between systolic and diastolic blood pressure. Redundant columns were also removed to simplify the dataset. The most important features for predicting CHD risk were identified as ‘age’, ‘sex’, ‘education’, ‘cigs_per_day’, ‘bp_meds’, ‘prevalent_stroke’, ‘prevalent_hyp’, ‘diabetes’, ‘total_cholesterol’, ‘bmi’, ‘heart_rate’, ‘glucose’, and ‘pulse_pressure’.\n",
        "\n",
        "To handle the imbalanced nature of the dataset, the SMOTE combined with Tomek links undersampling technique was used to balance the class distribution and improve model performance. The data was also scaled using standard scalar method to ensure that all features were on the same scale.\n",
        "\n",
        "Several machine learning models were evaluated on their performance on the primary evaluation metric of recall. After careful analysis, the Neural Network (tuned) was chosen as the final prediction model because it had the highest recall score among the models evaluated. By selecting a model with a high recall score, the goal was to correctly identify as many patients with CHD risk as possible, even if it meant having some false positives.\n",
        "\n",
        "Overall, this project demonstrated the potential of machine learning techniques to accurately predict CHD risk in patients using data from a cardiovascular study. By carefully preprocessing and transforming the data, selecting relevant features, and choosing an appropriate model based on its performance on a relevant evaluation metric, it was possible to achieve a positive business impact by accurately predicting CHD risk in patients.\n"
      ],
      "metadata": {
        "id": "oYXzBi_O8c25"
      }
    },
    {
      "cell_type": "markdown",
      "source": [
        "#*GitHub Link -*"
      ],
      "metadata": {
        "id": "x2SazYRN8ukT"
      }
    },
    {
      "cell_type": "markdown",
      "source": [
        "# Problem Statement-\n",
        "\n",
        "The dataset is from an ongoing cardiovascular study on residents of the town of Framingham, Massachusetts. The classification goal is to predict whether the patient has a 10-year risk of future coronary heart disease (CHD). The dataset provides the patients' information. It includes over 4,000 records and 15 attributes. Each attribute is a potential risk factor. There are both demographic, behavioral, and medical risk factors."
      ],
      "metadata": {
        "id": "9-6yaNV088FA"
      }
    },
    {
      "cell_type": "markdown",
      "source": [
        "#**Lets Start!!!**"
      ],
      "metadata": {
        "id": "OsMoVJKJ9QTJ"
      }
    },
    {
      "cell_type": "markdown",
      "source": [
        "# Knowing My Data-"
      ],
      "metadata": {
        "id": "QFBPLl3h9ZVg"
      }
    },
    {
      "cell_type": "markdown",
      "source": [
        "Importing Data and Libraries"
      ],
      "metadata": {
        "id": "3zCJ8JFY9t0l"
      }
    },
    {
      "cell_type": "code",
      "execution_count": null,
      "metadata": {
        "id": "TdfSPs2H6dwe"
      },
      "outputs": [],
      "source": []
    }
  ]
}